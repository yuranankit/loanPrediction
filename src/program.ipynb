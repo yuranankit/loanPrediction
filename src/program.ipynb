{
 "cells": [
  {
   "cell_type": "code",
   "execution_count": 1,
   "metadata": {},
   "outputs": [
    {
     "name": "stderr",
     "output_type": "stream",
     "text": [
      "C:\\Users\\yuranan\\AppData\\Local\\Continuum\\anaconda3\\envs\\tensorflow\\lib\\site-packages\\sklearn\\cross_validation.py:41: DeprecationWarning: This module was deprecated in version 0.18 in favor of the model_selection module into which all the refactored classes and functions are moved. Also note that the interface of the new CV iterators are different from that of this module. This module will be removed in 0.20.\n",
      "  \"This module will be removed in 0.20.\", DeprecationWarning)\n",
      "C:\\Users\\yuranan\\AppData\\Local\\Continuum\\anaconda3\\envs\\tensorflow\\lib\\site-packages\\sklearn\\grid_search.py:42: DeprecationWarning: This module was deprecated in version 0.18 in favor of the model_selection module into which all the refactored classes and functions are moved. This module will be removed in 0.20.\n",
      "  DeprecationWarning)\n"
     ]
    }
   ],
   "source": [
    "import sys\n",
    "import pandas as pd\n",
    "import numpy as np\n",
    "from xgboost.sklearn import XGBClassifier\n",
    "from sklearn import cross_validation, metrics\n",
    "from sklearn.grid_search import GridSearchCV\n",
    "\n",
    "from sklearn.model_selection import train_test_split\n",
    "from sklearn.metrics import mean_absolute_error\n",
    "\n",
    "import matplotlib.pyplot as plt\n",
    "%matplotlib inline\n",
    "\n",
    "import seaborn as sns\n",
    "\n",
    "import xgboost as xgb\n",
    "\n",
    "from sklearn.preprocessing import LabelEncoder\n",
    "\n",
    "train_df = pd.read_csv(\"../input/train.csv\")\n",
    "test_df = pd.read_csv(\"../input/test.csv\")"
   ]
  },
  {
   "cell_type": "code",
   "execution_count": 2,
   "metadata": {},
   "outputs": [],
   "source": [
    "#train_df.head()\n",
    "#train_df.info()\n",
    "#train_df.describe()\n",
    "#train_df.describe(include=['O'])\n",
    "#train_df.Dependents.unique()"
   ]
  },
  {
   "cell_type": "code",
   "execution_count": 3,
   "metadata": {},
   "outputs": [],
   "source": [
    "train_df['Gender'].fillna(train_df['Gender'].mode()[0], inplace=True)\n",
    "train_df['Married'].fillna(train_df['Married'].mode()[0], inplace=True)\n",
    "train_df['Dependents'].fillna(train_df['Dependents'].mode()[0], inplace=True)\n",
    "train_df['Self_Employed'].fillna(train_df['Self_Employed'].mode()[0], inplace=True)\n",
    "train_df['LoanAmount'].fillna(train_df['LoanAmount'].mean(), inplace=True)\n",
    "train_df['Loan_Amount_Term'].fillna(train_df['Loan_Amount_Term'].mean(), inplace=True)\n",
    "train_df['Credit_History'].fillna(train_df['Credit_History'].mean(), inplace=True)"
   ]
  },
  {
   "cell_type": "code",
   "execution_count": 4,
   "metadata": {},
   "outputs": [],
   "source": [
    "#train_df.info()\n",
    "y_train = train_df['Loan_Status']\n",
    "#y_train.head()\n",
    "y_train = y_train.apply({'Y':1, 'N':0}.get)\n",
    "x_train = train_df.drop(['Loan_Status'], axis=1)"
   ]
  },
  {
   "cell_type": "code",
   "execution_count": 5,
   "metadata": {},
   "outputs": [],
   "source": [
    "train_df1 = x_train.copy();\n",
    "test_df1 = test_df.copy();\n",
    "\n",
    "le = LabelEncoder()\n",
    "train_df1['Loan_ID'] = le.fit_transform(train_df['Loan_ID'])\n",
    "test_df1['Loan_ID'] = le.fit_transform(test_df['Loan_ID'])\n",
    "\n",
    "train_df1 = pd.get_dummies(train_df1)\n",
    "test_df1 = pd.get_dummies(test_df1)\n",
    "\n",
    "#train_df1.info()\n",
    "#train_df1.head()\n",
    "x_train = train_df1\n",
    "x_submit = test_df1"
   ]
  },
  {
   "cell_type": "code",
   "execution_count": 6,
   "metadata": {},
   "outputs": [],
   "source": [
    "x_train, x_test, y_train, y_test = train_test_split(x_train,y_train, test_size=.01)"
   ]
  },
  {
   "cell_type": "code",
   "execution_count": 7,
   "metadata": {},
   "outputs": [],
   "source": [
    "dtrain = xgb.DMatrix(x_train.values, label=y_train, missing=np.nan)\n",
    "dtest = xgb.DMatrix(x_test.values, label=y_test, missing=np.nan)"
   ]
  },
  {
   "cell_type": "code",
   "execution_count": 8,
   "metadata": {},
   "outputs": [],
   "source": [
    "params = {'objective': 'binary:logistic', 'booster': 'gbtree', 'silent': 0,\n",
    "\t\t 'max_depth': 10, 'eta': 0.1,\n",
    "\t\t 'subsample': 0.8, 'colsample_bytree': 0.8, 'min_child_weight': 20,\n",
    "\t\t 'max_delta_step': 0, 'gamma': 0}"
   ]
  },
  {
   "cell_type": "code",
   "execution_count": 9,
   "metadata": {},
   "outputs": [],
   "source": [
    "params['eval_metric'] = \"mae\"\n",
    "num_round = 600"
   ]
  },
  {
   "cell_type": "code",
   "execution_count": 10,
   "metadata": {},
   "outputs": [
    {
     "name": "stdout",
     "output_type": "stream",
     "text": [
      "[0]\tTest-mae:0.471325\n",
      "Will train until Test-mae hasn't improved in 10 rounds.\n",
      "[1]\tTest-mae:0.445183\n",
      "[2]\tTest-mae:0.421263\n",
      "[3]\tTest-mae:0.3999\n",
      "[4]\tTest-mae:0.378042\n",
      "[5]\tTest-mae:0.361626\n",
      "[6]\tTest-mae:0.345161\n",
      "[7]\tTest-mae:0.330374\n",
      "[8]\tTest-mae:0.315483\n",
      "[9]\tTest-mae:0.303382\n",
      "[10]\tTest-mae:0.292919\n",
      "[11]\tTest-mae:0.28511\n",
      "[12]\tTest-mae:0.2776\n",
      "[13]\tTest-mae:0.266955\n",
      "[14]\tTest-mae:0.259912\n",
      "[15]\tTest-mae:0.253368\n",
      "[16]\tTest-mae:0.249095\n",
      "[17]\tTest-mae:0.24482\n",
      "[18]\tTest-mae:0.240738\n",
      "[19]\tTest-mae:0.236424\n",
      "[20]\tTest-mae:0.230433\n",
      "[21]\tTest-mae:0.227584\n",
      "[22]\tTest-mae:0.223287\n",
      "[23]\tTest-mae:0.21876\n",
      "[24]\tTest-mae:0.216452\n",
      "[25]\tTest-mae:0.213617\n",
      "[26]\tTest-mae:0.209145\n",
      "[27]\tTest-mae:0.208894\n",
      "[28]\tTest-mae:0.208551\n",
      "[29]\tTest-mae:0.208764\n",
      "[30]\tTest-mae:0.204848\n",
      "[31]\tTest-mae:0.200274\n",
      "[32]\tTest-mae:0.197465\n",
      "[33]\tTest-mae:0.197614\n",
      "[34]\tTest-mae:0.194913\n",
      "[35]\tTest-mae:0.195363\n",
      "[36]\tTest-mae:0.192843\n",
      "[37]\tTest-mae:0.191424\n",
      "[38]\tTest-mae:0.189541\n",
      "[39]\tTest-mae:0.190254\n",
      "[40]\tTest-mae:0.189813\n",
      "[41]\tTest-mae:0.188294\n",
      "[42]\tTest-mae:0.188177\n",
      "[43]\tTest-mae:0.185975\n",
      "[44]\tTest-mae:0.186194\n",
      "[45]\tTest-mae:0.186169\n",
      "[46]\tTest-mae:0.184353\n",
      "[47]\tTest-mae:0.184983\n",
      "[48]\tTest-mae:0.18385\n",
      "[49]\tTest-mae:0.183086\n",
      "[50]\tTest-mae:0.183472\n",
      "[51]\tTest-mae:0.182463\n",
      "[52]\tTest-mae:0.181123\n",
      "[53]\tTest-mae:0.181592\n",
      "[54]\tTest-mae:0.181783\n",
      "[55]\tTest-mae:0.179428\n",
      "[56]\tTest-mae:0.179133\n",
      "[57]\tTest-mae:0.179965\n",
      "[58]\tTest-mae:0.179063\n",
      "[59]\tTest-mae:0.178789\n",
      "[60]\tTest-mae:0.178461\n",
      "[61]\tTest-mae:0.178086\n",
      "[62]\tTest-mae:0.178813\n",
      "[63]\tTest-mae:0.176144\n",
      "[64]\tTest-mae:0.174595\n",
      "[65]\tTest-mae:0.175047\n",
      "[66]\tTest-mae:0.173759\n",
      "[67]\tTest-mae:0.174407\n",
      "[68]\tTest-mae:0.172885\n",
      "[69]\tTest-mae:0.173221\n",
      "[70]\tTest-mae:0.174975\n",
      "[71]\tTest-mae:0.173506\n",
      "[72]\tTest-mae:0.17267\n",
      "[73]\tTest-mae:0.172539\n",
      "[74]\tTest-mae:0.17218\n",
      "[75]\tTest-mae:0.172074\n",
      "[76]\tTest-mae:0.172625\n",
      "[77]\tTest-mae:0.17252\n",
      "[78]\tTest-mae:0.171714\n",
      "[79]\tTest-mae:0.173227\n",
      "[80]\tTest-mae:0.172281\n",
      "[81]\tTest-mae:0.172472\n",
      "[82]\tTest-mae:0.174173\n",
      "[83]\tTest-mae:0.171871\n",
      "[84]\tTest-mae:0.170715\n",
      "[85]\tTest-mae:0.169973\n",
      "[86]\tTest-mae:0.169198\n",
      "[87]\tTest-mae:0.169602\n",
      "[88]\tTest-mae:0.170698\n",
      "[89]\tTest-mae:0.169831\n",
      "[90]\tTest-mae:0.170669\n",
      "[91]\tTest-mae:0.171088\n",
      "[92]\tTest-mae:0.169068\n",
      "[93]\tTest-mae:0.169784\n",
      "[94]\tTest-mae:0.16981\n",
      "[95]\tTest-mae:0.171995\n",
      "[96]\tTest-mae:0.170602\n",
      "[97]\tTest-mae:0.16954\n",
      "[98]\tTest-mae:0.170094\n",
      "[99]\tTest-mae:0.168928\n",
      "[100]\tTest-mae:0.168757\n",
      "[101]\tTest-mae:0.170389\n",
      "[102]\tTest-mae:0.170958\n",
      "[103]\tTest-mae:0.170242\n",
      "[104]\tTest-mae:0.16981\n",
      "[105]\tTest-mae:0.169947\n",
      "[106]\tTest-mae:0.169731\n",
      "[107]\tTest-mae:0.16905\n",
      "[108]\tTest-mae:0.167682\n",
      "[109]\tTest-mae:0.167836\n",
      "[110]\tTest-mae:0.167264\n",
      "[111]\tTest-mae:0.167431\n",
      "[112]\tTest-mae:0.167789\n",
      "[113]\tTest-mae:0.168442\n",
      "[114]\tTest-mae:0.166077\n",
      "[115]\tTest-mae:0.164008\n",
      "[116]\tTest-mae:0.164253\n",
      "[117]\tTest-mae:0.165679\n",
      "[118]\tTest-mae:0.166951\n",
      "[119]\tTest-mae:0.165347\n",
      "[120]\tTest-mae:0.163272\n",
      "[121]\tTest-mae:0.163313\n",
      "[122]\tTest-mae:0.164765\n",
      "[123]\tTest-mae:0.166311\n",
      "[124]\tTest-mae:0.166305\n",
      "[125]\tTest-mae:0.166232\n",
      "[126]\tTest-mae:0.165733\n",
      "[127]\tTest-mae:0.164714\n",
      "[128]\tTest-mae:0.164644\n",
      "[129]\tTest-mae:0.164839\n",
      "[130]\tTest-mae:0.161625\n",
      "[131]\tTest-mae:0.162142\n",
      "[132]\tTest-mae:0.160803\n",
      "[133]\tTest-mae:0.162002\n",
      "[134]\tTest-mae:0.162054\n",
      "[135]\tTest-mae:0.159892\n",
      "[136]\tTest-mae:0.160874\n",
      "[137]\tTest-mae:0.159639\n",
      "[138]\tTest-mae:0.158285\n",
      "[139]\tTest-mae:0.15862\n",
      "[140]\tTest-mae:0.159638\n",
      "[141]\tTest-mae:0.157912\n",
      "[142]\tTest-mae:0.157208\n",
      "[143]\tTest-mae:0.157504\n",
      "[144]\tTest-mae:0.157452\n",
      "[145]\tTest-mae:0.156547\n",
      "[146]\tTest-mae:0.155709\n",
      "[147]\tTest-mae:0.154977\n",
      "[148]\tTest-mae:0.153727\n",
      "[149]\tTest-mae:0.152688\n",
      "[150]\tTest-mae:0.15535\n",
      "[151]\tTest-mae:0.154709\n",
      "[152]\tTest-mae:0.152611\n",
      "[153]\tTest-mae:0.151055\n",
      "[154]\tTest-mae:0.151251\n",
      "[155]\tTest-mae:0.152001\n",
      "[156]\tTest-mae:0.153681\n",
      "[157]\tTest-mae:0.152498\n",
      "[158]\tTest-mae:0.155479\n",
      "[159]\tTest-mae:0.156011\n",
      "[160]\tTest-mae:0.156573\n",
      "[161]\tTest-mae:0.157779\n",
      "[162]\tTest-mae:0.157772\n",
      "[163]\tTest-mae:0.157736\n",
      "Stopping. Best iteration:\n",
      "[153]\tTest-mae:0.151055\n",
      "\n"
     ]
    }
   ],
   "source": [
    "clf = xgb.train(params,\n",
    "                dtrain,\n",
    "                num_boost_round=num_round,\n",
    "                evals=[(dtest, \"Test\")],\n",
    "                early_stopping_rounds=10\n",
    "               )"
   ]
  },
  {
   "cell_type": "code",
   "execution_count": 11,
   "metadata": {},
   "outputs": [],
   "source": [
    "gridsearch_params = [\n",
    "    (max_depth, min_child_weight)\n",
    "    for max_depth in range(9,12)\n",
    "    for min_child_weight in range(5,8)\n",
    "]"
   ]
  },
  {
   "cell_type": "code",
   "execution_count": 12,
   "metadata": {},
   "outputs": [
    {
     "name": "stdout",
     "output_type": "stream",
     "text": [
      "CV with max_depth=9, min_child_weight=5\n"
     ]
    },
    {
     "name": "stderr",
     "output_type": "stream",
     "text": [
      "C:\\Users\\yuranan\\AppData\\Local\\Continuum\\anaconda3\\envs\\tensorflow\\lib\\site-packages\\ipykernel_launcher.py:22: FutureWarning: 'argmin' is deprecated, use 'idxmin' instead. The behavior of 'argmin'\n",
      "will be corrected to return the positional minimum in the future.\n",
      "Use 'series.values.argmin' to get the position of the minimum now.\n"
     ]
    },
    {
     "name": "stdout",
     "output_type": "stream",
     "text": [
      "\tMAE 0.301563 for 84 rounds\n",
      "CV with max_depth=9, min_child_weight=6\n",
      "\tMAE 0.3067076 for 84 rounds\n",
      "CV with max_depth=9, min_child_weight=7\n",
      "\tMAE 0.30812019999999996 for 84 rounds\n",
      "CV with max_depth=10, min_child_weight=5\n",
      "\tMAE 0.301563 for 84 rounds\n",
      "CV with max_depth=10, min_child_weight=6\n",
      "\tMAE 0.3067076 for 84 rounds\n",
      "CV with max_depth=10, min_child_weight=7\n",
      "\tMAE 0.30812019999999996 for 84 rounds\n",
      "CV with max_depth=11, min_child_weight=5\n",
      "\tMAE 0.301563 for 84 rounds\n",
      "CV with max_depth=11, min_child_weight=6\n",
      "\tMAE 0.3067076 for 84 rounds\n",
      "CV with max_depth=11, min_child_weight=7\n",
      "\tMAE 0.30812019999999996 for 84 rounds\n",
      "Best param: 9, 5, MAE: 0.301563\n"
     ]
    }
   ],
   "source": [
    "min_mae = float(\"Inf\")\n",
    "best_param = None\n",
    "for max_depth, min_child_weight in gridsearch_params:\n",
    "    print(\"CV with max_depth={}, min_child_weight={}\".format(\n",
    "                             max_depth,\n",
    "                             min_child_weight))\n",
    "    # Update our paramseters\n",
    "    params['max_depth'] = max_depth\n",
    "    params['min_child_weight'] = min_child_weight\n",
    "    # Run CV\n",
    "    cv_results = xgb.cv(\n",
    "        params,\n",
    "        dtrain,\n",
    "        num_boost_round=num_round,\n",
    "        seed=42,\n",
    "        nfold=5,\n",
    "        metrics={'mae'},\n",
    "        early_stopping_rounds=10\n",
    "    )\n",
    "    # Update best MAE\n",
    "    mean_mae = cv_results['test-mae-mean'].min()\n",
    "    boost_rounds = cv_results['test-mae-mean'].argmin()\n",
    "    print(\"\\tMAE {} for {} rounds\".format(mean_mae, boost_rounds))\n",
    "    if mean_mae < min_mae:\n",
    "        min_mae = mean_mae\n",
    "        best_param = (max_depth,min_child_weight)\n",
    "print(\"Best param: {}, {}, MAE: {}\".format(best_param[0], best_param[1], min_mae))\n",
    "\n",
    "params['max_depth'] = best_param[0]\n",
    "params['min_child_weight'] = best_param[1]"
   ]
  },
  {
   "cell_type": "code",
   "execution_count": 13,
   "metadata": {},
   "outputs": [],
   "source": [
    "gridsearch_params = [\n",
    "    (subsample, colsample)\n",
    "    for subsample in [i/10. for i in range(7,11)]\n",
    "    for colsample in [i/10. for i in range(7,11)]\n",
    "]"
   ]
  },
  {
   "cell_type": "code",
   "execution_count": 14,
   "metadata": {},
   "outputs": [
    {
     "name": "stdout",
     "output_type": "stream",
     "text": [
      "CV with subsample=1.0, colsample=1.0\n"
     ]
    },
    {
     "name": "stderr",
     "output_type": "stream",
     "text": [
      "C:\\Users\\yuranan\\AppData\\Local\\Continuum\\anaconda3\\envs\\tensorflow\\lib\\site-packages\\ipykernel_launcher.py:23: FutureWarning: 'argmin' is deprecated, use 'idxmin' instead. The behavior of 'argmin'\n",
      "will be corrected to return the positional minimum in the future.\n",
      "Use 'series.values.argmin' to get the position of the minimum now.\n"
     ]
    },
    {
     "name": "stdout",
     "output_type": "stream",
     "text": [
      "\tMAE 0.2865678 for 231 rounds\n",
      "CV with subsample=1.0, colsample=0.9\n",
      "\tMAE 0.2905562 for 153 rounds\n",
      "CV with subsample=1.0, colsample=0.8\n",
      "\tMAE 0.2916692 for 208 rounds\n",
      "CV with subsample=1.0, colsample=0.7\n",
      "\tMAE 0.2956174 for 113 rounds\n",
      "CV with subsample=0.9, colsample=1.0\n",
      "\tMAE 0.29426379999999996 for 129 rounds\n",
      "CV with subsample=0.9, colsample=0.9\n",
      "\tMAE 0.2941296 for 168 rounds\n",
      "CV with subsample=0.9, colsample=0.8\n",
      "\tMAE 0.29418540000000004 for 174 rounds\n",
      "CV with subsample=0.9, colsample=0.7\n",
      "\tMAE 0.2923684 for 170 rounds\n",
      "CV with subsample=0.8, colsample=1.0\n",
      "\tMAE 0.298458 for 84 rounds\n",
      "CV with subsample=0.8, colsample=0.9\n",
      "\tMAE 0.30144380000000004 for 85 rounds\n",
      "CV with subsample=0.8, colsample=0.8\n",
      "\tMAE 0.301563 for 84 rounds\n",
      "CV with subsample=0.8, colsample=0.7\n",
      "\tMAE 0.3049014 for 87 rounds\n",
      "CV with subsample=0.7, colsample=1.0\n",
      "\tMAE 0.3008408 for 115 rounds\n",
      "CV with subsample=0.7, colsample=0.9\n",
      "\tMAE 0.3023186 for 99 rounds\n",
      "CV with subsample=0.7, colsample=0.8\n",
      "\tMAE 0.30567479999999997 for 102 rounds\n",
      "CV with subsample=0.7, colsample=0.7\n",
      "\tMAE 0.3054698 for 115 rounds\n",
      "Best params: 1.0, 1.0, MAE: 0.2865678\n"
     ]
    }
   ],
   "source": [
    "min_mae = float(\"Inf\")\n",
    "best_params = None\n",
    "# We start by the largest values and go down to the smallest\n",
    "for subsample, colsample in reversed(gridsearch_params):\n",
    "    print(\"CV with subsample={}, colsample={}\".format(\n",
    "                             subsample,\n",
    "                             colsample))\n",
    "    # We update our parameters\n",
    "    params['subsample'] = subsample\n",
    "    params['colsample_bytree'] = colsample\n",
    "    # Run CV\n",
    "    cv_results = xgb.cv(\n",
    "        params,\n",
    "        dtrain,\n",
    "        num_boost_round=num_round,\n",
    "        seed=42,\n",
    "        nfold=5,\n",
    "        metrics={'mae'},\n",
    "        early_stopping_rounds=10\n",
    "    )\n",
    "    # Update best score\n",
    "    mean_mae = cv_results['test-mae-mean'].min()\n",
    "    boost_rounds = cv_results['test-mae-mean'].argmin()\n",
    "    print(\"\\tMAE {} for {} rounds\".format(mean_mae, boost_rounds))\n",
    "    if mean_mae < min_mae:\n",
    "        min_mae = mean_mae\n",
    "        best_params = (subsample,colsample)\n",
    "print(\"Best params: {}, {}, MAE: {}\".format(best_params[0], best_params[1], min_mae))\n",
    "\n",
    "params['subsample'] = best_params[0]\n",
    "params['colsample_bytree'] = best_params[1]"
   ]
  },
  {
   "cell_type": "code",
   "execution_count": 15,
   "metadata": {},
   "outputs": [
    {
     "name": "stdout",
     "output_type": "stream",
     "text": [
      "CV with eta=0.3\n"
     ]
    },
    {
     "name": "stderr",
     "output_type": "stream",
     "text": [
      "C:\\Users\\yuranan\\AppData\\Local\\Continuum\\anaconda3\\envs\\tensorflow\\lib\\site-packages\\ipykernel_launcher.py:19: FutureWarning: 'argmin' is deprecated, use 'idxmin' instead. The behavior of 'argmin'\n",
      "will be corrected to return the positional minimum in the future.\n",
      "Use 'series.values.argmin' to get the position of the minimum now.\n"
     ]
    },
    {
     "name": "stdout",
     "output_type": "stream",
     "text": [
      "\tMAE 0.288078 for 78 rounds\n",
      "\n",
      "CV with eta=0.2\n",
      "\tMAE 0.2904692 for 85 rounds\n",
      "\n",
      "CV with eta=0.1\n",
      "\tMAE 0.2865678 for 231 rounds\n",
      "\n",
      "CV with eta=0.05\n",
      "\tMAE 0.29560200000000003 for 206 rounds\n",
      "\n",
      "CV with eta=0.01\n",
      "\tMAE 0.3010408 for 599 rounds\n",
      "\n",
      "CV with eta=0.005\n",
      "\tMAE 0.3128862 for 599 rounds\n",
      "\n",
      "Best params: 0.1, MAE: 0.2865678\n"
     ]
    }
   ],
   "source": [
    "min_mae = float(\"Inf\")\n",
    "best_params = None\n",
    "for eta in [.3, .2, .1, .05, .01, .005]:\n",
    "    print(\"CV with eta={}\".format(eta))\n",
    "    # We update our parameters\n",
    "    params['eta'] = eta\n",
    "    # Run and time CV\n",
    "    cv_results = xgb.cv(\n",
    "        params,\n",
    "        dtrain,\n",
    "        num_boost_round=num_round,\n",
    "        seed=42,\n",
    "        nfold=5,\n",
    "        metrics=['mae'],\n",
    "        early_stopping_rounds=10\n",
    "    )\n",
    "    # Update best score\n",
    "    mean_mae = cv_results['test-mae-mean'].min()\n",
    "    boost_rounds = cv_results['test-mae-mean'].argmin()\n",
    "    print(\"\\tMAE {} for {} rounds\\n\".format(mean_mae, boost_rounds))\n",
    "    if mean_mae < min_mae:\n",
    "        min_mae = mean_mae\n",
    "        best_params = eta\n",
    "print(\"Best params: {}, MAE: {}\".format(best_params, min_mae))\n",
    "\n",
    "params['eta'] = best_params"
   ]
  },
  {
   "cell_type": "code",
   "execution_count": 16,
   "metadata": {},
   "outputs": [
    {
     "name": "stdout",
     "output_type": "stream",
     "text": [
      "{'max_depth': 9, 'colsample_bytree': 1.0, 'eval_metric': 'mae', 'subsample': 1.0, 'gamma': 0, 'max_delta_step': 0, 'eta': 0.1, 'objective': 'binary:logistic', 'silent': 0, 'booster': 'gbtree', 'min_child_weight': 5}\n"
     ]
    }
   ],
   "source": [
    "print(params)"
   ]
  },
  {
   "cell_type": "code",
   "execution_count": 17,
   "metadata": {},
   "outputs": [
    {
     "name": "stdout",
     "output_type": "stream",
     "text": [
      "[0]\tTest-mae:0.463721\n",
      "Will train until Test-mae hasn't improved in 10 rounds.\n",
      "[1]\tTest-mae:0.431152\n",
      "[2]\tTest-mae:0.397101\n",
      "[3]\tTest-mae:0.370302\n",
      "[4]\tTest-mae:0.3473\n",
      "[5]\tTest-mae:0.323209\n",
      "[6]\tTest-mae:0.303317\n",
      "[7]\tTest-mae:0.283976\n",
      "[8]\tTest-mae:0.272195\n",
      "[9]\tTest-mae:0.256142\n",
      "[10]\tTest-mae:0.242917\n",
      "[11]\tTest-mae:0.232867\n",
      "[12]\tTest-mae:0.222785\n",
      "[13]\tTest-mae:0.214155\n",
      "[14]\tTest-mae:0.209537\n",
      "[15]\tTest-mae:0.201603\n",
      "[16]\tTest-mae:0.193128\n",
      "[17]\tTest-mae:0.189037\n",
      "[18]\tTest-mae:0.179885\n",
      "[19]\tTest-mae:0.175966\n",
      "[20]\tTest-mae:0.171197\n",
      "[21]\tTest-mae:0.16556\n",
      "[22]\tTest-mae:0.165196\n",
      "[23]\tTest-mae:0.163866\n",
      "[24]\tTest-mae:0.160963\n",
      "[25]\tTest-mae:0.157063\n",
      "[26]\tTest-mae:0.155724\n",
      "[27]\tTest-mae:0.154239\n",
      "[28]\tTest-mae:0.150547\n",
      "[29]\tTest-mae:0.151657\n",
      "[30]\tTest-mae:0.151251\n",
      "[31]\tTest-mae:0.147675\n",
      "[32]\tTest-mae:0.146777\n",
      "[33]\tTest-mae:0.144766\n",
      "[34]\tTest-mae:0.142767\n",
      "[35]\tTest-mae:0.138879\n",
      "[36]\tTest-mae:0.139982\n",
      "[37]\tTest-mae:0.140021\n",
      "[38]\tTest-mae:0.140594\n",
      "[39]\tTest-mae:0.142393\n",
      "[40]\tTest-mae:0.139162\n",
      "[41]\tTest-mae:0.140789\n",
      "[42]\tTest-mae:0.13872\n",
      "[43]\tTest-mae:0.138262\n",
      "[44]\tTest-mae:0.136347\n",
      "[45]\tTest-mae:0.133461\n",
      "[46]\tTest-mae:0.131135\n",
      "[47]\tTest-mae:0.132392\n",
      "[48]\tTest-mae:0.128686\n",
      "[49]\tTest-mae:0.126543\n",
      "[50]\tTest-mae:0.128678\n",
      "[51]\tTest-mae:0.128452\n",
      "[52]\tTest-mae:0.128315\n",
      "[53]\tTest-mae:0.127343\n",
      "[54]\tTest-mae:0.125259\n",
      "[55]\tTest-mae:0.124314\n",
      "[56]\tTest-mae:0.123348\n",
      "[57]\tTest-mae:0.122478\n",
      "[58]\tTest-mae:0.11895\n",
      "[59]\tTest-mae:0.116523\n",
      "[60]\tTest-mae:0.115049\n",
      "[61]\tTest-mae:0.114344\n",
      "[62]\tTest-mae:0.110815\n",
      "[63]\tTest-mae:0.111113\n",
      "[64]\tTest-mae:0.111673\n",
      "[65]\tTest-mae:0.112616\n",
      "[66]\tTest-mae:0.115036\n",
      "[67]\tTest-mae:0.115574\n",
      "[68]\tTest-mae:0.115061\n",
      "[69]\tTest-mae:0.114291\n",
      "[70]\tTest-mae:0.115418\n",
      "[71]\tTest-mae:0.116221\n",
      "[72]\tTest-mae:0.116263\n",
      "Stopping. Best iteration:\n",
      "[62]\tTest-mae:0.110815\n",
      "\n"
     ]
    }
   ],
   "source": [
    "model = xgb.train(\n",
    "    params,\n",
    "    dtrain,\n",
    "    num_boost_round=num_round,\n",
    "    evals=[(dtest, \"Test\")],\n",
    "    early_stopping_rounds=10\n",
    ")"
   ]
  },
  {
   "cell_type": "code",
   "execution_count": 18,
   "metadata": {},
   "outputs": [
    {
     "name": "stdout",
     "output_type": "stream",
     "text": [
      "[0]\tTest-mae:0.463721\n",
      "[1]\tTest-mae:0.431152\n",
      "[2]\tTest-mae:0.397101\n",
      "[3]\tTest-mae:0.370302\n",
      "[4]\tTest-mae:0.3473\n",
      "[5]\tTest-mae:0.323209\n",
      "[6]\tTest-mae:0.303317\n",
      "[7]\tTest-mae:0.283976\n",
      "[8]\tTest-mae:0.272195\n",
      "[9]\tTest-mae:0.256142\n",
      "[10]\tTest-mae:0.242917\n",
      "[11]\tTest-mae:0.232867\n",
      "[12]\tTest-mae:0.222785\n",
      "[13]\tTest-mae:0.214155\n",
      "[14]\tTest-mae:0.209537\n",
      "[15]\tTest-mae:0.201603\n",
      "[16]\tTest-mae:0.193128\n",
      "[17]\tTest-mae:0.189037\n",
      "[18]\tTest-mae:0.179885\n",
      "[19]\tTest-mae:0.175966\n",
      "[20]\tTest-mae:0.171197\n",
      "[21]\tTest-mae:0.16556\n",
      "[22]\tTest-mae:0.165196\n",
      "[23]\tTest-mae:0.163866\n",
      "[24]\tTest-mae:0.160963\n",
      "[25]\tTest-mae:0.157063\n",
      "[26]\tTest-mae:0.155724\n",
      "[27]\tTest-mae:0.154239\n",
      "[28]\tTest-mae:0.150547\n",
      "[29]\tTest-mae:0.151657\n",
      "[30]\tTest-mae:0.151251\n",
      "[31]\tTest-mae:0.147675\n",
      "[32]\tTest-mae:0.146777\n",
      "[33]\tTest-mae:0.144766\n",
      "[34]\tTest-mae:0.142767\n",
      "[35]\tTest-mae:0.138879\n",
      "[36]\tTest-mae:0.139982\n",
      "[37]\tTest-mae:0.140021\n",
      "[38]\tTest-mae:0.140594\n",
      "[39]\tTest-mae:0.142393\n",
      "[40]\tTest-mae:0.139162\n",
      "[41]\tTest-mae:0.140789\n",
      "[42]\tTest-mae:0.13872\n",
      "[43]\tTest-mae:0.138262\n",
      "[44]\tTest-mae:0.136347\n",
      "[45]\tTest-mae:0.133461\n",
      "[46]\tTest-mae:0.131135\n",
      "[47]\tTest-mae:0.132392\n",
      "[48]\tTest-mae:0.128686\n",
      "[49]\tTest-mae:0.126543\n",
      "[50]\tTest-mae:0.128678\n",
      "[51]\tTest-mae:0.128452\n",
      "[52]\tTest-mae:0.128315\n",
      "[53]\tTest-mae:0.127343\n",
      "[54]\tTest-mae:0.125259\n",
      "[55]\tTest-mae:0.124314\n",
      "[56]\tTest-mae:0.123348\n",
      "[57]\tTest-mae:0.122478\n",
      "[58]\tTest-mae:0.11895\n",
      "[59]\tTest-mae:0.116523\n",
      "[60]\tTest-mae:0.115049\n",
      "[61]\tTest-mae:0.114344\n",
      "[62]\tTest-mae:0.110815\n"
     ]
    }
   ],
   "source": [
    "num_boost_round = model.best_iteration + 1\n",
    "best_model = xgb.train(\n",
    "    params,\n",
    "    dtrain,\n",
    "    num_boost_round=num_boost_round,\n",
    "    evals=[(dtest, \"Test\")]\n",
    ")"
   ]
  },
  {
   "cell_type": "code",
   "execution_count": 19,
   "metadata": {},
   "outputs": [
    {
     "data": {
      "text/plain": [
       "0.11081457350935255"
      ]
     },
     "execution_count": 19,
     "metadata": {},
     "output_type": "execute_result"
    }
   ],
   "source": [
    "mean_absolute_error(best_model.predict(dtest), y_test)"
   ]
  },
  {
   "cell_type": "code",
   "execution_count": 20,
   "metadata": {},
   "outputs": [],
   "source": [
    "best_model.save_model(\"my_model.model\")"
   ]
  },
  {
   "cell_type": "markdown",
   "metadata": {},
   "source": [
    "loaded_model = xgb.Booster()\n",
    "loaded_model.load_model(\"my_model.model\")\n",
    "\n",
    "dtest = xgb.DMatrix(x_submit.values, missing=np.nan)\n",
    "\n",
    "test_preds = load_model.predict(dtest)"
   ]
  },
  {
   "cell_type": "code",
   "execution_count": 21,
   "metadata": {},
   "outputs": [
    {
     "name": "stdout",
     "output_type": "stream",
     "text": [
      "XGB RUN:5/5"
     ]
    }
   ],
   "source": [
    "seeds = [1122, 2244, 3366, 4488, 5500]\n",
    "#seeds = [1122]\n",
    "test_preds = np.zeros((len(x_submit), len(seeds)))\n",
    "\n",
    "for run in range(len(seeds)):\n",
    "\tsys.stdout.write(\"\\rXGB RUN:{}/{}\".format(run+1, len(seeds)))\n",
    "\tsys.stdout.flush()\n",
    "\tparams['seed'] = seeds[run]\n",
    "\tclf = xgb.train(params,\n",
    "                    dtrain,\n",
    "                    num_boost_round=num_round\n",
    "                   )\n",
    "\tdtest = xgb.DMatrix(x_submit.values, missing=np.nan)\n",
    "\ttest_preds[:, run] = clf.predict(dtest)\n",
    "    \n",
    "test_preds = np.mean(test_preds, axis=1)"
   ]
  },
  {
   "cell_type": "code",
   "execution_count": 22,
   "metadata": {},
   "outputs": [],
   "source": [
    "test_df['Loan_Status'] = test_preds\n",
    "test_df['Loan_Status'] = test_df['Loan_Status'] > 0.5\n",
    "test_df['Loan_Status'] = test_df['Loan_Status'].apply({True:'Y', False:'N'}.get)\n",
    "test_df.to_csv(\"../output/final_solution.csv\", index=False)"
   ]
  }
 ],
 "metadata": {
  "kernelspec": {
   "display_name": "Python 3",
   "language": "python",
   "name": "python3"
  },
  "language_info": {
   "codemirror_mode": {
    "name": "ipython",
    "version": 3
   },
   "file_extension": ".py",
   "mimetype": "text/x-python",
   "name": "python",
   "nbconvert_exporter": "python",
   "pygments_lexer": "ipython3",
   "version": "3.5.5"
  }
 },
 "nbformat": 4,
 "nbformat_minor": 2
}
